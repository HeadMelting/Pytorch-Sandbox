{
 "cells": [
  {
   "attachments": {},
   "cell_type": "markdown",
   "metadata": {},
   "source": [
    " ### Why use Machine learning?\n",
    " - For a complex problem, can you think of all the rules?\n",
    "    \n",
    "    - ex) Driving? 자율주행 모든 규칙을 생각할 수 있는가? probably not.\n",
    "    - Yashaswi : I think you can use ML for literally anything as long as you can convert it into numbers and program it to find patterns.\n",
    "\n",
    "\n",
    "- If you can build a simple rule-based system that doesn't require machine learning, do that ( Google Machie Learning Handbook Rule 1.)"
   ]
  },
  {
   "attachments": {},
   "cell_type": "markdown",
   "metadata": {},
   "source": []
  }
 ],
 "metadata": {
  "language_info": {
   "name": "python"
  },
  "orig_nbformat": 4
 },
 "nbformat": 4,
 "nbformat_minor": 2
}
