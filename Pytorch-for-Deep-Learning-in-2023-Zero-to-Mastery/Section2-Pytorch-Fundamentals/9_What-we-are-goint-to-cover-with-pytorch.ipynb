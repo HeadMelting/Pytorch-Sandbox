{
 "cells": [
  {
   "attachments": {},
   "cell_type": "markdown",
   "metadata": {},
   "source": [
    "## What is Tensor\n",
    "- What is Tensor by Dan Fleich youtube Video"
   ]
  },
  {
   "attachments": {},
   "cell_type": "markdown",
   "metadata": {},
   "source": [
    "### What we're goint to cover (boradly)\n",
    "- now\n",
    "    - pytorch bascis & fundamentals (dealing with tensors and tensor operations)\n",
    "\n",
    "- later\n",
    "    - preprocessing data\n",
    "    - building and using pretrained deep learning models\n",
    "    - fitting a model to the data\n",
    "    - making predictions with a mmodel\n",
    "    - evalutaing model predictions\n",
    "    - saving and loading models\n",
    "    - using a trained model to make predictions on custom data\n",
    "\n",
    "- pytorch workflow\n",
    "    1. get data reday\n",
    "    2. build or pick a pretrained model\n",
    "     - pick a loss function & optim\n",
    "     - build a training loop\n",
    "    3. fit the model to the data and make a prediction\n",
    "    4. evaluate the model\n",
    "    5. improve through experimentation\n",
    "    6. save and reload your trained model"
   ]
  },
  {
   "attachments": {},
   "cell_type": "markdown",
   "metadata": {},
   "source": []
  }
 ],
 "metadata": {
  "language_info": {
   "name": "python"
  },
  "orig_nbformat": 4
 },
 "nbformat": 4,
 "nbformat_minor": 2
}
