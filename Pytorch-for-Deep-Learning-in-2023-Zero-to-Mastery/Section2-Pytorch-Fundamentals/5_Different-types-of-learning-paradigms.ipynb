{
 "cells": [
  {
   "attachments": {},
   "cell_type": "markdown",
   "metadata": {},
   "source": [
    "### Supervised Learning\n",
    "- Label & data\n",
    "\n",
    "### Unsupervised & Self-Supervised Learning\n",
    "- have only data itself (ex photo, no labels like 'cat','dog')\n",
    "- machine learning algo to learn representation(patterns, features) \n",
    "\n",
    "### Transfer Learning\n",
    "- model to model\n",
    "- ex)pre train model\n",
    "\n",
    "#### Reinforcement learning (own paradigm)\n",
    "- environment, agent -> actions -> rewards & observations "
   ]
  },
  {
   "attachments": {},
   "cell_type": "markdown",
   "metadata": {},
   "source": [
    "\n"
   ]
  }
 ],
 "metadata": {
  "language_info": {
   "name": "python"
  },
  "orig_nbformat": 4
 },
 "nbformat": 4,
 "nbformat_minor": 2
}
