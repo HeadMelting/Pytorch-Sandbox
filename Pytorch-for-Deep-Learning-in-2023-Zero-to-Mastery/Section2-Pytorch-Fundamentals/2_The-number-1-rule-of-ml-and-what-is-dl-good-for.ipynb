{
 "cells": [
  {
   "attachments": {},
   "cell_type": "markdown",
   "metadata": {},
   "source": [
    "### What deep learning is good for\n",
    "- problems with long lists of rules \n",
    "    - when the traditional approach fails, machine learning/deep learning may help.<br/><br/>\n",
    "- continually chaning environments \n",
    "    - deep learning can adapt ('learn') to new scenarios.<br/><br/>\n",
    "- Discovering insights within large collections of data\n",
    "    - can you imagine trying to hand-craft rules for what 101 different kinds of food look like?"
   ]
  },
  {
   "attachments": {},
   "cell_type": "markdown",
   "metadata": {},
   "source": [
    "### What deep learning is not good for (typically)\n",
    "- when you need explainability\n",
    "    - the patterns learned by a deep learning model ar typically uninterpretable by a human.<br/><br/>\n",
    "- when the traditional approach is a better option\n",
    "    - if you can accomplish what you need with a simple rule-based system. (google 1 rule)<br/><br/>\n",
    "- when erros are unacceptable\n",
    "    - since the outputs of deep learning model aren't always predictable<br/><br/>\n",
    "- when you don't have much data\n",
    "    - deep learnings models usually require a fairly large amount of data to produce greate results<br/><br/><br/>\n",
    "\n",
    "***이러한 문제들을 해결할 수 있는 다양한 접근 방법이 존재하긴 함.***"
   ]
  },
  {
   "attachments": {},
   "cell_type": "markdown",
   "metadata": {},
   "source": []
  }
 ],
 "metadata": {
  "language_info": {
   "name": "python"
  },
  "orig_nbformat": 4
 },
 "nbformat": 4,
 "nbformat_minor": 2
}
