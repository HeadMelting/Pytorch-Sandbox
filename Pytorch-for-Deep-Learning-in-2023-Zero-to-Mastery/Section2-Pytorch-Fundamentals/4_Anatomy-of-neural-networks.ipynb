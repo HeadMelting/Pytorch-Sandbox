{
 "cells": [
  {
   "attachments": {},
   "cell_type": "markdown",
   "metadata": {},
   "source": [
    "## Neural Networks\n",
    "\n",
    "inputs -> Numerical Encoding (before data gets used with a neural network, it needs to be turned into numbers) -> Learns representation (patterns/features/weights) | (choose the appropriate NN for your problem) -> representation outputs -> human understandable outputs (class, language, etc..) "
   ]
  },
  {
   "attachments": {},
   "cell_type": "markdown",
   "metadata": {},
   "source": [
    "## Anatomy of NN\n",
    "- Input layer\n",
    "    - where data goes in<br/><br/>\n",
    "- Hidden layers\n",
    "    - learns patterns in data<br/><br/>\n",
    "- Output layer\n",
    "    - outputs learned representation or prediction probabilities<br/><br/>\n",
    "\n",
    "- each layer is usually combination of linear and/or non linear functions\n",
    "\n",
    "#### NOTE\n",
    "patterns is an arbitary term, you'll heare embedding, weights, feature representation, feature vectors, ... \n",
    "\n",
    "\n",
    "\n"
   ]
  },
  {
   "attachments": {},
   "cell_type": "markdown",
   "metadata": {},
   "source": []
  }
 ],
 "metadata": {
  "language_info": {
   "name": "python"
  },
  "orig_nbformat": 4
 },
 "nbformat": 4,
 "nbformat_minor": 2
}
