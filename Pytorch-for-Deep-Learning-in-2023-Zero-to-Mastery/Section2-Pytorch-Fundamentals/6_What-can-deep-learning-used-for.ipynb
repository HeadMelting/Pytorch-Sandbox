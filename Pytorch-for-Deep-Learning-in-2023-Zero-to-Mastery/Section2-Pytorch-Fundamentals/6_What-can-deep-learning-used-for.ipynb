{
 "cells": [
  {
   "attachments": {},
   "cell_type": "markdown",
   "metadata": {},
   "source": [
    "## What is Deel learning actually used for?\n",
    "\n",
    "1. Recoomendation\n",
    "2. Translation (Seq2seq)\n",
    "3. Speech recognition\n",
    "4. Computer Vision (Classification/regression/etc..)\n",
    "5. Natural Language Processing (spam detector)\n",
    "\n",
    "    "
   ]
  },
  {
   "attachments": {},
   "cell_type": "markdown",
   "metadata": {},
   "source": []
  }
 ],
 "metadata": {
  "language_info": {
   "name": "python"
  },
  "orig_nbformat": 4
 },
 "nbformat": 4,
 "nbformat_minor": 2
}
