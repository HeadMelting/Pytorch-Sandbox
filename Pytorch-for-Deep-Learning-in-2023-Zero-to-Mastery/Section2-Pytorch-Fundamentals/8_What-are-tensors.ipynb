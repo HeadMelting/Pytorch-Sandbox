{
 "cells": [
  {
   "attachments": {},
   "cell_type": "markdown",
   "metadata": {},
   "source": [
    "### What is a tensor?\n",
    "\n",
    "1. Inputs\n",
    "2. Numerical Encoding **(Tensors)**\n",
    "3. Learns representation (patterns/features/weights)\n",
    "4. Representation outputs **(Tensors)**\n",
    "6. Outputs (Humman understadable)\n",
    "\n",
    "- input을 어떠한 숫자로 인코딩 한 다음, NN을 지나서 나온 Representation Ouput은 목적에 맞게끔 manupulated된 Tensor이다.\n",
    "- 이러한 output tensor를 이용해서 사람이 이해할 수 있는 출력 결과로 도출한다. (ex) classification ('dog','cat')"
   ]
  },
  {
   "attachments": {},
   "cell_type": "markdown",
   "metadata": {},
   "source": []
  }
 ],
 "metadata": {
  "language_info": {
   "name": "python"
  },
  "orig_nbformat": 4
 },
 "nbformat": 4,
 "nbformat_minor": 2
}
