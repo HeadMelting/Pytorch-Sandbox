{
 "cells": [
  {
   "attachments": {},
   "cell_type": "markdown",
   "metadata": {},
   "source": [
    "### What Is Pytorch?\n",
    "- MOST POPLUAR RESAERCH DEEP LEARNING FRAMEWORK\n",
    "- write fast deep learning code in python\n",
    "- able to access many pre-built deep learning models(torch hub, torchvision.models)\n",
    "- whole stack: preprocess data, model data, deploy model in your application/cloud\n",
    "- originally designed and used in-house by Facebook/Meta (now open-source and used by companies such as teslr)"
   ]
  },
  {
   "attachments": {},
   "cell_type": "markdown",
   "metadata": {},
   "source": [
    "### Why Pytorch\n",
    "- 그냥 다씀\n",
    "\n",
    "### What is GPU/TPU\n",
    "- GPU (Graphics Processing Unit)\n",
    "    - CUDA & pytorch\n",
    "\n",
    "\n",
    "- TPU (Tensor Processing Unit)\n",
    "    - Not Famous"
   ]
  },
  {
   "attachments": {},
   "cell_type": "markdown",
   "metadata": {},
   "source": []
  }
 ],
 "metadata": {
  "language_info": {
   "name": "python"
  },
  "orig_nbformat": 4
 },
 "nbformat": 4,
 "nbformat_minor": 2
}
