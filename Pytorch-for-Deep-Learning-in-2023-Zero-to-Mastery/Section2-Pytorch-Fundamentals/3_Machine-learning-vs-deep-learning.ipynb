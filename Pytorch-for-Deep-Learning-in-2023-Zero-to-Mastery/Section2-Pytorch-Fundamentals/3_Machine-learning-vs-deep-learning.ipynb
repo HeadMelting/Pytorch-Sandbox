{
 "cells": [
  {
   "attachments": {},
   "cell_type": "markdown",
   "metadata": {},
   "source": [
    "### Machine Learning vs. Deep learning (General term)\n",
    "\n",
    "typically machine learning alogritms -> structed data (alogithm : ex) gradient boosted machine. (XGBoost)"
   ]
  },
  {
   "attachments": {},
   "cell_type": "markdown",
   "metadata": {},
   "source": [
    "### Commmon Algorithms\n",
    "\n",
    "**Structured Data**\n",
    "- Random forest\n",
    "- Gradient boosted models\n",
    "- Naive Bayes\n",
    "- Nearest neighbour\n",
    "- Support Vector machine\n",
    "- ... many more\n",
    "\n",
    "<br/><br/>\n",
    "\n",
    "**Unstructured Data**\n",
    "- Neural Networks\n",
    "- Fully connected NN\n",
    "- CNN\n",
    "- RNN\n",
    "- Transformer\n",
    "- ... many more"
   ]
  },
  {
   "attachments": {},
   "cell_type": "markdown",
   "metadata": {},
   "source": []
  }
 ],
 "metadata": {
  "language_info": {
   "name": "python"
  },
  "orig_nbformat": 4
 },
 "nbformat": 4,
 "nbformat_minor": 2
}
