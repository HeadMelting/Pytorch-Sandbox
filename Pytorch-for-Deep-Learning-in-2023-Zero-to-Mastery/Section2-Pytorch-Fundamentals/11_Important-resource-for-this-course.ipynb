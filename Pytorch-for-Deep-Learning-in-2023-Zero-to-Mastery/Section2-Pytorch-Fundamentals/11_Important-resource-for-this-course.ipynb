{
 "cells": [
  {
   "attachments": {},
   "cell_type": "markdown",
   "metadata": {},
   "source": [
    "## Resoureces\n",
    "- [GithubRepo](https://github.com/mrdbourke/pytorch-deep-learning)\n",
    "- [QnA](https://github.com/mrdbourke/pytorch-deep-learning/discussions)\n",
    "- [Online Book](https://learnpytorch.io)"
   ]
  },
  {
   "attachments": {},
   "cell_type": "markdown",
   "metadata": {},
   "source": [
    "- Add to README.md\n"
   ]
  },
  {
   "attachments": {},
   "cell_type": "markdown",
   "metadata": {},
   "source": []
  }
 ],
 "metadata": {
  "language_info": {
   "name": "python"
  },
  "orig_nbformat": 4
 },
 "nbformat": 4,
 "nbformat_minor": 2
}
