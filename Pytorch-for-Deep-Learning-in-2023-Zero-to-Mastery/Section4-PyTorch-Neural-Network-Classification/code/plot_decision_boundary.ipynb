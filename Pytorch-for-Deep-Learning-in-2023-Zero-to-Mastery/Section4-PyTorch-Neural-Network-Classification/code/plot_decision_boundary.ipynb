{
 "cells": [
  {
   "cell_type": "code",
   "execution_count": 8,
   "metadata": {},
   "outputs": [],
   "source": [
    "import matplotlib.pyplot as plt\n",
    "import torch\n",
    "from torch import nn\n",
    "import numpy as np\n",
    "from putting_it_all_together import BlobClassifier, train\n",
    "from sklearn.datasets import make_blobs\n",
    "from sklearn.model_selection import  train_test_split"
   ]
  },
  {
   "cell_type": "code",
   "execution_count": 9,
   "metadata": {},
   "outputs": [],
   "source": [
    "def plot_decision_boundary(model: torch.nn.Module, X: torch.Tensor, y: torch.Tensor):\n",
    "    \"\"\"Plots decision boundaries of model predicting on X in comparison to y.\n",
    "\n",
    "    Source - https://madewithml.com/courses/foundations/neural-networks/ (with modifications)\n",
    "    \"\"\"\n",
    "    # Put everything to CPU (works better with NumPy + Matplotlib)\n",
    "    model.to(\"cpu\")\n",
    "    X, y = X.to(\"cpu\"), y.to(\"cpu\")\n",
    "\n",
    "    # Setup prediction boundaries and grid\n",
    "    x_min, x_max = X[:, 0].min() - 0.1, X[:, 0].max() + 0.1\n",
    "    y_min, y_max = X[:, 1].min() - 0.1, X[:, 1].max() + 0.1\n",
    "    xx, yy = np.meshgrid(np.linspace(x_min, x_max, 101), np.linspace(y_min, y_max, 101))\n",
    "\n",
    "    # Make features\n",
    "    X_to_pred_on = torch.from_numpy(np.column_stack((xx.ravel(), yy.ravel()))).float()\n",
    "\n",
    "    # Make predictions\n",
    "    model.eval()\n",
    "    with torch.inference_mode():\n",
    "        y_logits = model(X_to_pred_on)\n",
    "\n",
    "    # Test for multi-class or binary and adjust logits to prediction labels\n",
    "    if len(torch.unique(y)) > 2:\n",
    "        y_pred = torch.softmax(y_logits, dim=1).argmax(dim=1)  # mutli-class\n",
    "    else:\n",
    "        y_pred = torch.round(torch.sigmoid(y_logits))  # binary\n",
    "\n",
    "    # Reshape preds and plot\n",
    "    y_pred = y_pred.reshape(xx.shape).detach().numpy()\n",
    "    plt.contourf(xx, yy, y_pred, cmap=plt.cm.RdYlBu, alpha=0.7)\n",
    "    plt.scatter(X[:, 0], X[:, 1], c=y, s=40, cmap=plt.cm.RdYlBu)\n",
    "    plt.xlim(xx.min(), xx.max())\n",
    "    plt.ylim(yy.min(), yy.max())"
   ]
  },
  {
   "cell_type": "code",
   "execution_count": 10,
   "metadata": {},
   "outputs": [],
   "source": [
    "# Init for testing Decision Boundary\n",
    "\n",
    "# Init Data\n",
    "NUM_CLASSES = 4\n",
    "NUM_FEATURES = 2\n",
    "RANDOM_SEED = 42\n",
    "\n",
    "torch.manual_seed(42)\n",
    "\n",
    "# 1. Create multi-class Data\n",
    "X, y = make_blobs(n_samples=1000,\n",
    "                    n_features=NUM_FEATURES,\n",
    "                    centers=NUM_CLASSES,\n",
    "                    cluster_std=1.5,\n",
    "                    random_state=RANDOM_SEED)\n",
    "\n",
    "X = torch.from_numpy(X).type(torch.float32)\n",
    "y = torch.from_numpy(y).type(torch.LongTensor)\n",
    "\n",
    "X_train, X_test, y_train, y_test = train_test_split(X,\n",
    "                                                    y,\n",
    "                                                    test_size=0.2,\n",
    "                                                    random_state=RANDOM_SEED)\n",
    "\n",
    "# plot Dataset\n",
    "# plot_scatter_datasets(X, y)\n",
    "\n",
    "# Device\n",
    "device = 'mps' if torch.backends.mps.is_available() else 'cpu'\n",
    "\n",
    "X_train, X_test, y_train, y_test = X_train.to(device), X_test.to(\n",
    "    device), y_train.to(device), y_test.to(device)\n",
    "\n",
    "# Create Model\n",
    "model = BlobClassifier(input_features=2,\n",
    "                        output_features=4,\n",
    "                        #    only_linear=True,\n",
    "                        hidden_units=8).to(device)\n",
    "\n",
    "loss_fn = nn.CrossEntropyLoss()\n",
    "optimizer = torch.optim.SGD(model.parameters(),\n",
    "                            lr=1e-1)"
   ]
  },
  {
   "cell_type": "code",
   "execution_count": 11,
   "metadata": {},
   "outputs": [
    {
     "name": "stdout",
     "output_type": "stream",
     "text": [
      "Epoch: 0\t|\tTrain Loss: 1.1588\tTrain Acc: 40.38%\n",
      "Epoch: 10\t|\tTrain Loss: 0.6448\tTrain Acc: 96.75%\n",
      "Epoch: 20\t|\tTrain Loss: 0.4254\tTrain Acc: 98.50%\n",
      "Epoch: 30\t|\tTrain Loss: 0.2529\tTrain Acc: 99.12%\n",
      "Epoch: 40\t|\tTrain Loss: 0.1123\tTrain Acc: 99.25%\n",
      "Epoch: 50\t|\tTrain Loss: 0.0663\tTrain Acc: 99.25%\n",
      "Epoch: 60\t|\tTrain Loss: 0.0507\tTrain Acc: 99.25%\n",
      "Epoch: 70\t|\tTrain Loss: 0.0430\tTrain Acc: 99.25%\n",
      "Epoch: 80\t|\tTrain Loss: 0.0384\tTrain Acc: 99.25%\n",
      "Epoch: 90\t|\tTrain Loss: 0.0352\tTrain Acc: 99.25%\n"
     ]
    }
   ],
   "source": [
    "epochs = 100\n",
    "for epoch in range(epochs):\n",
    "    train_loss, train_acc = train(model=model,\n",
    "                                    X_train=X_train,\n",
    "                                    y_train=y_train,\n",
    "                                    loss_fn=loss_fn,\n",
    "                                    optimizer=optimizer)\n",
    "\n",
    "\n",
    "    if epoch % 10 == 0:\n",
    "        print(\n",
    "            f'Epoch: {epoch}\\t|\\tTrain Loss: {train_loss:.4f}\\tTrain Acc: {train_acc:.2f}%')"
   ]
  },
  {
   "cell_type": "code",
   "execution_count": 12,
   "metadata": {},
   "outputs": [],
   "source": [
    "model.to(\"cpu\")\n",
    "X_train, y_train = X.to(\"cpu\"), y.to(\"cpu\")"
   ]
  },
  {
   "cell_type": "code",
   "execution_count": 47,
   "metadata": {},
   "outputs": [],
   "source": [
    "x_min, x_max = X[:, 0].min() - 0.1, X[:, 0].max() + 0.1\n",
    "y_min, y_max = X[:, 1].min() - 0.1, X[:, 1].max() + 0.1\n",
    "xx, yy = np.meshgrid(np.linspace(x_min, x_max, 101), np.linspace(y_min, y_max, 101))"
   ]
  },
  {
   "cell_type": "code",
   "execution_count": 48,
   "metadata": {},
   "outputs": [
    {
     "data": {
      "text/plain": [
       "(tensor(-12.9932),\n",
       " tensor(-11.3245),\n",
       " tensor(8.5999),\n",
       " tensor(14.8934),\n",
       " (101, 101),\n",
       " (101, 101))"
      ]
     },
     "execution_count": 48,
     "metadata": {},
     "output_type": "execute_result"
    }
   ],
   "source": [
    "x_min, y_min, x_max, y_max, xx.shape, yy.shape"
   ]
  },
  {
   "cell_type": "code",
   "execution_count": 49,
   "metadata": {},
   "outputs": [
    {
     "data": {
      "text/plain": [
       "torch.Size([10201, 2])"
      ]
     },
     "execution_count": 49,
     "metadata": {},
     "output_type": "execute_result"
    }
   ],
   "source": [
    "X_to_pred_on = torch.from_numpy(np.column_stack((xx.ravel(), yy.ravel()))).float()\n",
    "X_to_pred_on.shape"
   ]
  },
  {
   "cell_type": "code",
   "execution_count": 53,
   "metadata": {},
   "outputs": [],
   "source": [
    "xxx, yyy = np.meshgrid(np.linspace(1,10,10),np.linspace(1,10,10))"
   ]
  },
  {
   "cell_type": "code",
   "execution_count": 55,
   "metadata": {},
   "outputs": [
    {
     "data": {
      "text/plain": [
       "(array([ 1.,  2.,  3.,  4.,  5.,  6.,  7.,  8.,  9., 10.,  1.,  2.,  3.,\n",
       "         4.,  5.,  6.,  7.,  8.,  9., 10.,  1.,  2.,  3.,  4.,  5.,  6.,\n",
       "         7.,  8.,  9., 10.,  1.,  2.,  3.,  4.,  5.,  6.,  7.,  8.,  9.,\n",
       "        10.,  1.,  2.,  3.,  4.,  5.,  6.,  7.,  8.,  9., 10.,  1.,  2.,\n",
       "         3.,  4.,  5.,  6.,  7.,  8.,  9., 10.,  1.,  2.,  3.,  4.,  5.,\n",
       "         6.,  7.,  8.,  9., 10.,  1.,  2.,  3.,  4.,  5.,  6.,  7.,  8.,\n",
       "         9., 10.,  1.,  2.,  3.,  4.,  5.,  6.,  7.,  8.,  9., 10.,  1.,\n",
       "         2.,  3.,  4.,  5.,  6.,  7.,  8.,  9., 10.]),\n",
       " array([ 1.,  1.,  1.,  1.,  1.,  1.,  1.,  1.,  1.,  1.,  2.,  2.,  2.,\n",
       "         2.,  2.,  2.,  2.,  2.,  2.,  2.,  3.,  3.,  3.,  3.,  3.,  3.,\n",
       "         3.,  3.,  3.,  3.,  4.,  4.,  4.,  4.,  4.,  4.,  4.,  4.,  4.,\n",
       "         4.,  5.,  5.,  5.,  5.,  5.,  5.,  5.,  5.,  5.,  5.,  6.,  6.,\n",
       "         6.,  6.,  6.,  6.,  6.,  6.,  6.,  6.,  7.,  7.,  7.,  7.,  7.,\n",
       "         7.,  7.,  7.,  7.,  7.,  8.,  8.,  8.,  8.,  8.,  8.,  8.,  8.,\n",
       "         8.,  8.,  9.,  9.,  9.,  9.,  9.,  9.,  9.,  9.,  9.,  9., 10.,\n",
       "        10., 10., 10., 10., 10., 10., 10., 10., 10.]))"
      ]
     },
     "execution_count": 55,
     "metadata": {},
     "output_type": "execute_result"
    }
   ],
   "source": [
    "xxx.ravel(), yyy.ravel()"
   ]
  },
  {
   "cell_type": "code",
   "execution_count": 57,
   "metadata": {},
   "outputs": [
    {
     "data": {
      "text/plain": [
       "array([[ 1.,  1.],\n",
       "       [ 2.,  1.],\n",
       "       [ 3.,  1.],\n",
       "       [ 4.,  1.],\n",
       "       [ 5.,  1.],\n",
       "       [ 6.,  1.],\n",
       "       [ 7.,  1.],\n",
       "       [ 8.,  1.],\n",
       "       [ 9.,  1.],\n",
       "       [10.,  1.],\n",
       "       [ 1.,  2.],\n",
       "       [ 2.,  2.],\n",
       "       [ 3.,  2.],\n",
       "       [ 4.,  2.],\n",
       "       [ 5.,  2.],\n",
       "       [ 6.,  2.],\n",
       "       [ 7.,  2.],\n",
       "       [ 8.,  2.],\n",
       "       [ 9.,  2.],\n",
       "       [10.,  2.],\n",
       "       [ 1.,  3.],\n",
       "       [ 2.,  3.],\n",
       "       [ 3.,  3.],\n",
       "       [ 4.,  3.],\n",
       "       [ 5.,  3.],\n",
       "       [ 6.,  3.],\n",
       "       [ 7.,  3.],\n",
       "       [ 8.,  3.],\n",
       "       [ 9.,  3.],\n",
       "       [10.,  3.],\n",
       "       [ 1.,  4.],\n",
       "       [ 2.,  4.],\n",
       "       [ 3.,  4.],\n",
       "       [ 4.,  4.],\n",
       "       [ 5.,  4.],\n",
       "       [ 6.,  4.],\n",
       "       [ 7.,  4.],\n",
       "       [ 8.,  4.],\n",
       "       [ 9.,  4.],\n",
       "       [10.,  4.],\n",
       "       [ 1.,  5.],\n",
       "       [ 2.,  5.],\n",
       "       [ 3.,  5.],\n",
       "       [ 4.,  5.],\n",
       "       [ 5.,  5.],\n",
       "       [ 6.,  5.],\n",
       "       [ 7.,  5.],\n",
       "       [ 8.,  5.],\n",
       "       [ 9.,  5.],\n",
       "       [10.,  5.],\n",
       "       [ 1.,  6.],\n",
       "       [ 2.,  6.],\n",
       "       [ 3.,  6.],\n",
       "       [ 4.,  6.],\n",
       "       [ 5.,  6.],\n",
       "       [ 6.,  6.],\n",
       "       [ 7.,  6.],\n",
       "       [ 8.,  6.],\n",
       "       [ 9.,  6.],\n",
       "       [10.,  6.],\n",
       "       [ 1.,  7.],\n",
       "       [ 2.,  7.],\n",
       "       [ 3.,  7.],\n",
       "       [ 4.,  7.],\n",
       "       [ 5.,  7.],\n",
       "       [ 6.,  7.],\n",
       "       [ 7.,  7.],\n",
       "       [ 8.,  7.],\n",
       "       [ 9.,  7.],\n",
       "       [10.,  7.],\n",
       "       [ 1.,  8.],\n",
       "       [ 2.,  8.],\n",
       "       [ 3.,  8.],\n",
       "       [ 4.,  8.],\n",
       "       [ 5.,  8.],\n",
       "       [ 6.,  8.],\n",
       "       [ 7.,  8.],\n",
       "       [ 8.,  8.],\n",
       "       [ 9.,  8.],\n",
       "       [10.,  8.],\n",
       "       [ 1.,  9.],\n",
       "       [ 2.,  9.],\n",
       "       [ 3.,  9.],\n",
       "       [ 4.,  9.],\n",
       "       [ 5.,  9.],\n",
       "       [ 6.,  9.],\n",
       "       [ 7.,  9.],\n",
       "       [ 8.,  9.],\n",
       "       [ 9.,  9.],\n",
       "       [10.,  9.],\n",
       "       [ 1., 10.],\n",
       "       [ 2., 10.],\n",
       "       [ 3., 10.],\n",
       "       [ 4., 10.],\n",
       "       [ 5., 10.],\n",
       "       [ 6., 10.],\n",
       "       [ 7., 10.],\n",
       "       [ 8., 10.],\n",
       "       [ 9., 10.],\n",
       "       [10., 10.]])"
      ]
     },
     "execution_count": 57,
     "metadata": {},
     "output_type": "execute_result"
    }
   ],
   "source": [
    "np.column_stack((xxx.ravel(), yyy.ravel())) # Coordinate System의 모든 좌표."
   ]
  },
  {
   "cell_type": "code",
   "execution_count": null,
   "metadata": {},
   "outputs": [],
   "source": []
  }
 ],
 "metadata": {
  "kernelspec": {
   "display_name": "python-study",
   "language": "python",
   "name": "python3"
  },
  "language_info": {
   "codemirror_mode": {
    "name": "ipython",
    "version": 3
   },
   "file_extension": ".py",
   "mimetype": "text/x-python",
   "name": "python",
   "nbconvert_exporter": "python",
   "pygments_lexer": "ipython3",
   "version": "3.10.12"
  },
  "orig_nbformat": 4
 },
 "nbformat": 4,
 "nbformat_minor": 2
}
