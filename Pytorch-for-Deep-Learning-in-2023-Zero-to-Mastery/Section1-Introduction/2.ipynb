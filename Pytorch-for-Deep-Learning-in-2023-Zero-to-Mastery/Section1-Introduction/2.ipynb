{
 "cells": [
  {
   "attachments": {},
   "cell_type": "markdown",
   "metadata": {},
   "source": [
    "### What is deep learning?\n",
    "- Machine learning is turning things (data) into numbers and finding patterns in those numbers"
   ]
  },
  {
   "attachments": {},
   "cell_type": "markdown",
   "metadata": {},
   "source": [
    "### Traditional Programming\n",
    "- Inputs -> Rules (Cut vegetables, season chicken, preheat oven, etc..) -> Output\n",
    "\n",
    "### Machine Learning Algorithm\n",
    "- Inputs, Output -> Rules (find out patterns of inputs and outputs) | supervised-learning"
   ]
  },
  {
   "attachments": {},
   "cell_type": "markdown",
   "metadata": {},
   "source": []
  }
 ],
 "metadata": {
  "language_info": {
   "name": "python"
  },
  "orig_nbformat": 4
 },
 "nbformat": 4,
 "nbformat_minor": 2
}
