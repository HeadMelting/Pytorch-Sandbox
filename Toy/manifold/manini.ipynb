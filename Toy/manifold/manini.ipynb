{
 "cells": [
  {
   "attachments": {},
   "cell_type": "markdown",
   "metadata": {},
   "source": [
    "## Datasets. 3차원 공간 (i.e. 2 features)\n",
    "## Regression? \n",
    "1. z = x + y\n",
    "2. z = x * y\n",
    "3. z = cos(x) + sin(y)"
   ]
  },
  {
   "cell_type": "code",
   "execution_count": null,
   "metadata": {},
   "outputs": [],
   "source": [
    "import numpy as np\n",
    "import torch\n",
    "import torch.nn as nn\n",
    "import math\n",
    "import matplotlib.pyplot as plt"
   ]
  },
  {
   "cell_type": "code",
   "execution_count": null,
   "metadata": {},
   "outputs": [],
   "source": [
    "x, y = np.meshgrid(np.linspace(0,1.5,130),np.linspace(0,1.5,130))"
   ]
  },
  {
   "cell_type": "code",
   "execution_count": null,
   "metadata": {},
   "outputs": [],
   "source": [
    "features = torch.from_numpy(np.column_stack((x.ravel(), y.ravel())))\n",
    "features = features.to(dtype=torch.float32)\n",
    "features.shape"
   ]
  },
  {
   "cell_type": "code",
   "execution_count": null,
   "metadata": {},
   "outputs": [],
   "source": [
    "z1 = features[:,0] + features[:,1]\n",
    "z1, z1.shape"
   ]
  },
  {
   "cell_type": "code",
   "execution_count": null,
   "metadata": {},
   "outputs": [],
   "source": [
    "z2 = (features[:,0]-0.5) * (features[:,1]-0.5)\n",
    "z2.shape, z2"
   ]
  },
  {
   "attachments": {},
   "cell_type": "markdown",
   "metadata": {},
   "source": []
  },
  {
   "attachments": {},
   "cell_type": "markdown",
   "metadata": {},
   "source": []
  },
  {
   "cell_type": "code",
   "execution_count": null,
   "metadata": {},
   "outputs": [],
   "source": [
    "z3 = (features[:,0]*10).cos() + (features[:,1]*10).sin()\n",
    "z3, z3.shape"
   ]
  },
  {
   "cell_type": "code",
   "execution_count": null,
   "metadata": {},
   "outputs": [],
   "source": [
    "class SimpleMLP(nn.Module):\n",
    "    def __init__(self,\n",
    "                    input_features: int,\n",
    "                    output_features: int,\n",
    "                    hidden_units: int = 8,\n",
    "                    only_linear: bool = False) -> None:\n",
    "        '''\n",
    "        Initializes multi-class classification model.\n",
    "\n",
    "        Args:\n",
    "            input_features (int): Number of input features to the model\n",
    "            output_features (int): Number of output features (Number of output classes)\n",
    "            hidden_units (int): Number of hidden units between layers, default 8\n",
    "            only_linear (bool): if ```True```, Not use Non-Linear activation Function\n",
    "\n",
    "        Returns:\n",
    "            None\n",
    "\n",
    "        Example:\n",
    "            ```\n",
    "            model = BlobClassifier(input_features=3,\n",
    "                                    ouput_features=4,\n",
    "                                    hidden_units=8)\n",
    "            ```\n",
    "        '''\n",
    "        super().__init__()\n",
    "\n",
    "        # Layers\n",
    "        if only_linear:\n",
    "            self.linear_layer_stack = nn.Sequential(\n",
    "                nn.Linear(in_features=input_features,\n",
    "                            out_features=hidden_units),\n",
    "                nn.Linear(in_features=hidden_units,\n",
    "                            out_features=hidden_units),\n",
    "                nn.Linear(in_features=hidden_units,\n",
    "                            out_features=output_features)\n",
    "            )\n",
    "        else:\n",
    "            self.linear_layer_stack = nn.Sequential(\n",
    "                nn.Linear(in_features=input_features,\n",
    "                            out_features=hidden_units),\n",
    "                nn.ReLU(),\n",
    "                nn.Linear(in_features=hidden_units,\n",
    "                            out_features=hidden_units),\n",
    "                nn.ReLU(),\n",
    "                nn.Linear(in_features=hidden_units,\n",
    "                            out_features=hidden_units),\n",
    "                nn.ReLU(),\n",
    "                nn.Linear(in_features=hidden_units,\n",
    "                            out_features=output_features)\n",
    "            )\n",
    "\n",
    "    def forward(self, x):\n",
    "        return self.linear_layer_stack(x)"
   ]
  },
  {
   "cell_type": "code",
   "execution_count": null,
   "metadata": {},
   "outputs": [],
   "source": [
    "class SimpleTransformer(nn.Module):\n",
    "    def __init__(self,embed_dim):\n",
    "        super().__init__()\n",
    "        self.embed = nn.Linear(2,embed_dim) # b, 16\n",
    "\n",
    "        self.qkv = nn.Linear(embed_dim, embed_dim*3)\n",
    "\n",
    "        self.linear1 = nn.Linear(embed_dim, embed_dim)\n",
    "        self.linear2 = nn.Linear(embed_dim, 1)\n",
    "\n",
    "        self.ln = nn.LayerNorm([embed_dim])\n",
    "\n",
    "        self.act = nn.PReLU()\n",
    "\n",
    "    def forward(self, x):\n",
    "        batch_size = x.shape[0]\n",
    "        # x,y -> 16 feature \n",
    "        x = self.embed(x)\n",
    "        # 16 -> 16 * 3 (qkv) 16 16 16\n",
    "        qkv = self.qkv(x).reshape(batch_size, 3, -1).permute(1,0,2).unsqueeze(-1) # batch 48a\n",
    "        # 16 16 * 16 * 1\n",
    "        q, k, v = qkv[0],qkv[1],qkv[2]\n",
    "\n",
    "        attention = q @ k.transpose(1,2)\n",
    "\n",
    "        attention = attention.softmax(dim=-1)\n",
    "\n",
    "        x = attention @ v\n",
    "\n",
    "        x = x.squeeze()\n",
    "\n",
    "\n",
    "        \n",
    "        x = self.linear1(x)\n",
    "        x = self.act(x)\n",
    "\n",
    "\n",
    "        x = self.linear2(x)\n",
    "        \n",
    "        return x"
   ]
  },
  {
   "cell_type": "code",
   "execution_count": null,
   "metadata": {},
   "outputs": [],
   "source": [
    "class Multiple(nn.Module):\n",
    "    def __init__(self):\n",
    "        super().__init__()\n",
    "        self.embed = nn.Linear(2,8)\n",
    "        self.l1 = nn.Linear(8, 8)\n",
    "        self.l2 = nn.Linear(8, 8)\n",
    "        self.l3 = nn.Linear(8, 8)\n",
    "\n",
    "        self.head = nn.Linear(8,1)\n",
    "        self.act = nn.ReLU()\n",
    "\n",
    "    def forward(self, x):\n",
    "        x = self.embed(x)\n",
    "        \n",
    "        wx1 = self.act(self.l1(x)) + x\n",
    "\n",
    "        x2 = wx1 * x\n",
    "        wx2 = self.act(self.l2(x2)) + wx1\n",
    "\n",
    "        x3 = wx2 * x\n",
    "        wx3 = self.act(self.l2(x3)) + wx2\n",
    "\n",
    "        out = self.head(wx3)\n",
    "\n",
    "        return out"
   ]
  },
  {
   "cell_type": "code",
   "execution_count": null,
   "metadata": {},
   "outputs": [],
   "source": [
    "torch.ones(32,16,16).flatten(1).shape"
   ]
  },
  {
   "cell_type": "code",
   "execution_count": null,
   "metadata": {},
   "outputs": [],
   "source": [
    "from torchinfo import summary\n",
    "\n",
    "model = Multiple()\n",
    "\n",
    "\n",
    "summary(model,input_size=(32,2))"
   ]
  },
  {
   "attachments": {},
   "cell_type": "markdown",
   "metadata": {},
   "source": [
    "## Train"
   ]
  },
  {
   "cell_type": "code",
   "execution_count": null,
   "metadata": {},
   "outputs": [],
   "source": [
    "import torch\n",
    "import torch.nn as nn\n",
    "\n",
    "device = 'mps' if torch.backends.mps.is_available() else 'cpu'\n",
    "\n",
    "# model1 = SimpleTransformer(embed_dim=16).to(device)\n",
    "# model2 = SimpleTransformer(embed_dim=16).to(device)\n",
    "model1 = Multiple().to(device)\n",
    "model2 = Multiple().to(device)\n",
    "model3 = Multiple().to(device)\n",
    "\n",
    "# model1 = SimpleMLP(input_features=2,\n",
    "#                   output_features=1,\n",
    "#                   hidden_units=64).to(device)\n",
    "# model2 = SimpleMLP(input_features=2,\n",
    "#                   output_features=1,\n",
    "#                   hidden_units=64).to(device)\n",
    "# model3 = SimpleMLP(input_features=2,\n",
    "#                   output_features=1,\n",
    "#                   hidden_units=64).to(device)\n",
    "\n",
    "\n",
    "features = features.to(device)\n",
    "z1, z2, z3 = z1.to(device), z2.to(device), z3.to(device)\n",
    "\n",
    "loss_fn = nn.MSELoss()\n",
    "optimizer1 = torch.optim.SGD(model1.parameters(), lr=1e-1)\n",
    "optimizer2 = torch.optim.SGD(model2.parameters(), lr=1e-1)\n",
    "optimizer3 = torch.optim.SGD(model3.parameters(), lr=1e-1)"
   ]
  },
  {
   "cell_type": "code",
   "execution_count": null,
   "metadata": {},
   "outputs": [],
   "source": [
    "## Train Test Split\n",
    "X_train = features[:11000]\n",
    "z1_train = z1[:11000].unsqueeze(1)\n",
    "z2_train = z2[:11000].unsqueeze(1)\n",
    "z3_train = z3[:11000].unsqueeze(1)\n",
    "\n",
    "X_test = features[11000:]\n",
    "z1_test = z1[11000:].unsqueeze(1)\n",
    "z2_test = z2[11000:].unsqueeze(1)\n",
    "z3_test = z3[11000:].unsqueeze(1)\n",
    "\n",
    "X_train.shape, z1_train.shape, z2_train.shape, z3_train.shape, X_test.shape, z1_test.shape, z2_test.shape, z3_test.shape\n"
   ]
  },
  {
   "cell_type": "code",
   "execution_count": null,
   "metadata": {},
   "outputs": [],
   "source": [
    "def train_epoch(epoch,model, loss_fn, optimizer, X_train, X_test, y_train, y_test):\n",
    "    model.train()\n",
    "    logit = model(X_train)\n",
    "    loss = loss_fn(logit, y_train)\n",
    "    optimizer.zero_grad()\n",
    "    loss.backward()\n",
    "    optimizer.step()\n",
    "\n",
    "    model.eval()\n",
    "\n",
    "    test_logit = model(X_test)\n",
    "    test_loss = loss_fn(test_logit, y_test)\n",
    "    if epoch % 100 ==0:\n",
    "        print(f'Epoch:{epoch} | TestLoss: {test_loss} | TrainLoss: {loss}')"
   ]
  },
  {
   "cell_type": "code",
   "execution_count": null,
   "metadata": {},
   "outputs": [],
   "source": [
    "# modelc.train()\n",
    "# out = modelc(X_train)\n",
    "# optimizer1.zero_grad()\n",
    "# loss = loss_fn(out,z1_train)\n",
    "# loss.backward()\n",
    "# print(out, loss, modelc.embed.weight.grad)\n",
    "\n",
    "# optimizer1.step()\n",
    "\n"
   ]
  },
  {
   "cell_type": "code",
   "execution_count": 17,
   "metadata": {},
   "outputs": [
    {
     "name": "stdout",
     "output_type": "stream",
     "text": [
      "Epoch:400 | TestLoss: 1.5420275926589966 | TrainLoss: 0.6862057447433472\n",
      "Epoch:500 | TestLoss: 1.3323675394058228 | TrainLoss: 0.6645383238792419\n",
      "Epoch:600 | TestLoss: 1.0952837467193604 | TrainLoss: 0.6278818845748901\n",
      "Epoch:700 | TestLoss: 0.7604601383209229 | TrainLoss: 0.5863206386566162\n",
      "Epoch:800 | TestLoss: 0.8408332467079163 | TrainLoss: 0.5620527863502502\n",
      "Epoch:900 | TestLoss: 1.3907132148742676 | TrainLoss: 0.541201114654541\n"
     ]
    }
   ],
   "source": [
    "epochs = 1000\n",
    "\n",
    "\n",
    "\n",
    "print('Training Model1 | z = x + y')\n",
    "for epoch in range(epochs):\n",
    "    \n",
    "    train_epoch(epoch=epoch,model=model1,\n",
    "                loss_fn=loss_fn,\n",
    "                optimizer=optimizer1,\n",
    "                X_train=X_train,\n",
    "                X_test=X_test,\n",
    "                y_train=z1_train,\n",
    "                y_test=z1_test)\n",
    "    \n",
    "print('Training Model2 | z = x * y')\n",
    "for epoch in range(epochs):\n",
    "\n",
    "    train_epoch(epoch=epoch,model=model2,\n",
    "                loss_fn=loss_fn,\n",
    "                optimizer=optimizer2,\n",
    "                X_train=X_train,\n",
    "                X_test=X_test,\n",
    "                y_train=z2_train,\n",
    "                y_test=z2_test)\n",
    "    \n",
    "print('Training Model1 | z = cos(x) + cos(y)')\n",
    "for epoch in range(epochs):\n",
    "\n",
    "    train_epoch(epoch=epoch,model=model3,\n",
    "                loss_fn=loss_fn,\n",
    "                optimizer=optimizer3,\n",
    "                X_train=X_train,\n",
    "                X_test=X_test,\n",
    "                y_train=z3_train,\n",
    "                y_test=z3_test)"
   ]
  },
  {
   "cell_type": "code",
   "execution_count": 18,
   "metadata": {},
   "outputs": [],
   "source": [
    "def plot3d(X, X_train, X_test, y, model, title):\n",
    "    y_train = model(X_train)\n",
    "    y_test = model(X_test)\n",
    "\n",
    "    X, X_train, X_test = X.cpu().numpy(), X_train.cpu().numpy(), X_test.cpu().numpy()\n",
    "    y, y_train, y_test = y.detach().cpu().numpy(), y_train.detach().cpu().numpy(), y_test.detach().cpu().numpy()\n",
    "\n",
    "\n",
    "    fig = plt.figure(figsize=(24,24))\n",
    "    ax = fig.add_subplot(projection='3d')\n",
    "\n",
    "\n",
    "    ax.scatter(X[:,0],X[:,1],y, label='true')\n",
    "    ax.scatter(X_train[:,0],X_train[:,1],y_train, label='train')\n",
    "    ax.scatter(X_test[:,0],X_test[:,1],y_test, label='test')\n",
    "    fig.legend(fontsize='20')\n",
    "    plt.title(title, fontsize='30')\n",
    "    plt.show()\n",
    "    "
   ]
  },
  {
   "cell_type": "code",
   "execution_count": 19,
   "metadata": {},
   "outputs": [],
   "source": [
    "plot3d(features, X_train, X_test, z1, model1,'z = x + y (wx + wx^2 + wx^3)| 2000 Epoch')"
   ]
  },
  {
   "cell_type": "code",
   "execution_count": null,
   "metadata": {},
   "outputs": [],
   "source": [
    "plot3d(features, X_train, X_test, z2, model2,'z = x * y (wx + wx^2 + wx^3)| 4000 Epoch')"
   ]
  },
  {
   "cell_type": "code",
   "execution_count": null,
   "metadata": {},
   "outputs": [],
   "source": [
    "plot3d(features, X_train, X_test, z3, model3,'z = cos(x) + sin(y) (wx + wx^2 + wx^3) | 4000 Epoch')"
   ]
  },
  {
   "cell_type": "code",
   "execution_count": null,
   "metadata": {},
   "outputs": [],
   "source": []
  },
  {
   "cell_type": "code",
   "execution_count": null,
   "metadata": {},
   "outputs": [],
   "source": []
  },
  {
   "cell_type": "code",
   "execution_count": null,
   "metadata": {},
   "outputs": [],
   "source": []
  }
 ],
 "metadata": {
  "kernelspec": {
   "display_name": "entropy",
   "language": "python",
   "name": "python3"
  },
  "language_info": {
   "codemirror_mode": {
    "name": "ipython",
    "version": 3
   },
   "file_extension": ".py",
   "mimetype": "text/x-python",
   "name": "python",
   "nbconvert_exporter": "python",
   "pygments_lexer": "ipython3",
   "version": "3.11.5"
  },
  "orig_nbformat": 4
 },
 "nbformat": 4,
 "nbformat_minor": 2
}
