{
 "cells": [
  {
   "attachments": {},
   "cell_type": "markdown",
   "metadata": {},
   "source": [
    "## Tensor Basics\n"
   ]
  },
  {
   "cell_type": "code",
   "execution_count": 2,
   "metadata": {},
   "outputs": [
    {
     "name": "stdout",
     "output_type": "stream",
     "text": [
      "tensor([[9.8091e-45, 0.0000e+00, 0.0000e+00],\n",
      "        [0.0000e+00, 0.0000e+00, 0.0000e+00]])\n",
      "tensor([[0.5892, 0.2655],\n",
      "        [0.6880, 0.6516]])\n",
      "torch.int32\n",
      "torch.Size([2, 2])\n",
      "tensor([1, 2, 3, 4, 5])\n",
      "tensor([[0.6382, 0.5643],\n",
      "        [0.8610, 0.7880]])\n",
      "tensor([[0.9396, 0.8182],\n",
      "        [0.2867, 0.7852]])\n",
      "tensor([[1.5777, 1.3825],\n",
      "        [1.1477, 1.5733]])\n",
      "tensor([[1.5777, 1.3825],\n",
      "        [1.1477, 1.5733]])\n",
      "tensor([[1.5777, 1.3825],\n",
      "        [1.1477, 1.5733]])\n",
      "tensor([[-0.9396, -0.8182],\n",
      "        [-0.2867, -0.7852]])\n",
      "tensor([[0.9396, 0.8182],\n",
      "        [0.2867, 0.7852]])\n"
     ]
    },
    {
     "data": {
      "text/plain": [
       "tensor([[0.9396, 0.8182],\n",
       "        [0.2867, 0.7852]])"
      ]
     },
     "execution_count": 2,
     "metadata": {},
     "output_type": "execute_result"
    }
   ],
   "source": [
    "import torch\n",
    "x = torch.empty(3) # 1D 3element\n",
    "x = torch.empty(2, 3) # 2D 2x3 element\n",
    "print(x)\n",
    "\n",
    "# Random Value\n",
    "x = torch.rand(2,2)\n",
    "print(x)\n",
    "\n",
    "# Init with zeros\n",
    "x = torch.zeros(2,2)\n",
    "\n",
    "# data type\n",
    "x = torch.ones(2,2, dtype=torch.int)\n",
    "print(x.dtype)\n",
    "# size\n",
    "print(x.size())\n",
    "\n",
    "# construct tensor from data(list)\n",
    "x = torch.tensor([1,2,3,4,5]) \n",
    "print(x)\n",
    "\n",
    "# Basic Operation\n",
    "x = torch.rand(2,2)\n",
    "y = torch.rand(2,2)\n",
    "print(x)\n",
    "print(y)\n",
    "\n",
    "# addition (element-wise)\n",
    "z = x + y\n",
    "print(z)\n",
    "z = torch.add(x,y)\n",
    "print(z)\n",
    "\n",
    "# Inplace Addition\n",
    "# _ : 뒤에 _ 가 붙은 함수들은 모두 Inplace다 (pytorch)\n",
    "y.add_(x)\n",
    "print(y) \n",
    "\n",
    "# subtraction\n",
    "z = x - y\n",
    "z = torch.sub(x,y)\n",
    "y.sub_(x)\n",
    "print(z)\n",
    "print(y)\n",
    "\n",
    "# multiplication(element-wise)\n",
    "z = x * y\n",
    "y.mul_(x)\n",
    "\n",
    "# division\n",
    "z = x / y\n",
    "y.div_(x)\n",
    "\n"
   ]
  },
  {
   "cell_type": "code",
   "execution_count": 3,
   "metadata": {},
   "outputs": [
    {
     "name": "stdout",
     "output_type": "stream",
     "text": [
      "tensor([[0.5900, 0.2030, 0.9967],\n",
      "        [0.1699, 0.4666, 0.2772],\n",
      "        [0.7756, 0.1144, 0.2404],\n",
      "        [0.9936, 0.5325, 0.1933],\n",
      "        [0.4150, 0.1627, 0.3187]])\n",
      "tensor([0.5900, 0.1699, 0.7756, 0.9936, 0.4150])\n",
      "0.4665902256965637\n",
      "tensor([[0.6789, 0.9774, 0.7704, 0.3079],\n",
      "        [0.0713, 0.4667, 0.6146, 0.4676],\n",
      "        [0.7145, 0.4698, 0.8758, 0.3693],\n",
      "        [0.6303, 0.7538, 0.3405, 0.8490]])\n",
      "tensor([0.6789, 0.9774, 0.7704, 0.3079, 0.0713, 0.4667, 0.6146, 0.4676, 0.7145,\n",
      "        0.4698, 0.8758, 0.3693, 0.6303, 0.7538, 0.3405, 0.8490])\n",
      "hi\n",
      "x tensor([[[0.6756, 0.0760],\n",
      "         [0.8720, 0.1841],\n",
      "         [0.6849, 0.1104],\n",
      "         [0.0944, 0.1235]],\n",
      "\n",
      "        [[0.6058, 0.4102],\n",
      "         [0.7770, 0.9856],\n",
      "         [0.2843, 0.0643],\n",
      "         [0.7972, 0.1510]],\n",
      "\n",
      "        [[0.8841, 0.9820],\n",
      "         [0.6255, 0.7271],\n",
      "         [0.0894, 0.5003],\n",
      "         [0.5597, 0.6298]],\n",
      "\n",
      "        [[0.2430, 0.2551],\n",
      "         [0.5415, 0.2782],\n",
      "         [0.7967, 0.5748],\n",
      "         [0.8608, 0.7004]]])\n",
      "y tensor([[[0.6756, 0.0760, 0.8720, 0.1841, 0.6849, 0.1104, 0.0944, 0.1235],\n",
      "         [0.6058, 0.4102, 0.7770, 0.9856, 0.2843, 0.0643, 0.7972, 0.1510]],\n",
      "\n",
      "        [[0.8841, 0.9820, 0.6255, 0.7271, 0.0894, 0.5003, 0.5597, 0.6298],\n",
      "         [0.2430, 0.2551, 0.5415, 0.2782, 0.7967, 0.5748, 0.8608, 0.7004]]])\n"
     ]
    }
   ],
   "source": [
    "# Slicing\n",
    "x = torch.rand(5, 3)\n",
    "print(x)\n",
    "print(x[:, 0]) # First Column only\n",
    "print(x[1,1].item()) # actual value\n",
    "\n",
    "# Reshape\n",
    "x = torch.rand(4,4)\n",
    "print(x)\n",
    "y = x.view(16) # rows first, next column\n",
    "print(y)\n",
    "\n",
    "print('hi')\n",
    "x = torch.rand(4,4,2)\n",
    "print('x',x)\n",
    "y = x.view(2,2,-1)\n",
    "print('y',y)\n",
    "\n"
   ]
  },
  {
   "cell_type": "code",
   "execution_count": 4,
   "metadata": {},
   "outputs": [
    {
     "name": "stdout",
     "output_type": "stream",
     "text": [
      "tensor([1., 1., 1., 1., 1.])\n",
      "[1. 1. 1. 1. 1.] <class 'numpy.ndarray'>\n",
      "[2. 2. 2. 2. 2.]\n",
      "True\n"
     ]
    },
    {
     "ename": "TypeError",
     "evalue": "can't convert mps:0 device type tensor to numpy. Use Tensor.cpu() to copy the tensor to host memory first.",
     "output_type": "error",
     "traceback": [
      "\u001b[0;31m---------------------------------------------------------------------------\u001b[0m",
      "\u001b[0;31mTypeError\u001b[0m                                 Traceback (most recent call last)",
      "Cell \u001b[0;32mIn[4], line 16\u001b[0m\n\u001b[1;32m     14\u001b[0m device \u001b[39m=\u001b[39m \u001b[39m'\u001b[39m\u001b[39mmps\u001b[39m\u001b[39m'\u001b[39m\n\u001b[1;32m     15\u001b[0m a \u001b[39m=\u001b[39m torch\u001b[39m.\u001b[39mones(\u001b[39m1\u001b[39m,device\u001b[39m=\u001b[39mdevice)\n\u001b[0;32m---> 16\u001b[0m b \u001b[39m=\u001b[39m a\u001b[39m.\u001b[39;49mnumpy()\n\u001b[1;32m     17\u001b[0m \u001b[39mprint\u001b[39m(b)\n",
      "\u001b[0;31mTypeError\u001b[0m: can't convert mps:0 device type tensor to numpy. Use Tensor.cpu() to copy the tensor to host memory first."
     ]
    }
   ],
   "source": [
    "import numpy as np\n",
    "\n",
    "a = torch.ones(5)\n",
    "print(a)\n",
    "\n",
    "b = a.numpy()\n",
    "print(b,type(b))\n",
    "\n",
    "# if tensor is on the CPU; NOT GPU -> same memory\n",
    "a.add_(1)\n",
    "print(b)\n",
    "\n",
    "print(torch.backends.mps.is_available())\n",
    "device = 'mps'\n",
    "a = torch.ones(1,device=device)\n",
    "b = a.numpy()\n",
    "print(b)\n"
   ]
  },
  {
   "cell_type": "code",
   "execution_count": 9,
   "metadata": {},
   "outputs": [
    {
     "name": "stdout",
     "output_type": "stream",
     "text": [
      "[1. 1. 1. 1. 1.]\n",
      "tensor([1., 1., 1., 1., 1.], dtype=torch.float64)\n",
      "tensor([1., 1., 1., 1., 1.], dtype=torch.float64)\n",
      "[2. 2. 2. 2. 2.]\n",
      "tensor([2., 2., 2., 2., 2.], dtype=torch.float64)\n",
      "tensor([1., 1., 1., 1., 1.], dtype=torch.float64)\n"
     ]
    }
   ],
   "source": [
    "a = np.ones(5)\n",
    "print(a)\n",
    "b = torch.from_numpy(a)\n",
    "print(b)\n",
    "c = torch.tensor(a)\n",
    "print(c)\n",
    "\n",
    "a += 1\n",
    "print(a)\n",
    "print(b)\n",
    "print(c)\n"
   ]
  },
  {
   "cell_type": "code",
   "execution_count": 18,
   "metadata": {},
   "outputs": [
    {
     "name": "stdout",
     "output_type": "stream",
     "text": [
      "[2. 2. 2. 2. 2.]\n"
     ]
    }
   ],
   "source": [
    "\n",
    "if torch.backends.mps.is_available():\n",
    "    device = torch.device('mps')\n",
    "    x = torch.ones(5, device=device)\n",
    "    y = torch.ones(5)\n",
    "    y = y.to(device)\n",
    "    z = x + y\n",
    "    z = z.to('cpu') # z.cpu()\n",
    "    z = z.numpy()\n",
    "    print(z)\n"
   ]
  },
  {
   "cell_type": "code",
   "execution_count": 21,
   "metadata": {},
   "outputs": [
    {
     "name": "stdout",
     "output_type": "stream",
     "text": [
      "tensor([1., 1., 1., 1., 1.], requires_grad=True)\n"
     ]
    }
   ],
   "source": [
    "x = torch.ones(5, requires_grad=True)\n",
    "print(x)"
   ]
  },
  {
   "cell_type": "code",
   "execution_count": null,
   "metadata": {},
   "outputs": [],
   "source": []
  }
 ],
 "metadata": {
  "kernelspec": {
   "display_name": "GAN",
   "language": "python",
   "name": "python3"
  },
  "language_info": {
   "codemirror_mode": {
    "name": "ipython",
    "version": 3
   },
   "file_extension": ".py",
   "mimetype": "text/x-python",
   "name": "python",
   "nbconvert_exporter": "python",
   "pygments_lexer": "ipython3",
   "version": "3.10.12"
  },
  "orig_nbformat": 4
 },
 "nbformat": 4,
 "nbformat_minor": 2
}
