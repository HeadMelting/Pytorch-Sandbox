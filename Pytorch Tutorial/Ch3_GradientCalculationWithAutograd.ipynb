{
 "cells": [
  {
   "cell_type": "code",
   "execution_count": 1,
   "metadata": {},
   "outputs": [],
   "source": [
    "import torch"
   ]
  },
  {
   "attachments": {},
   "cell_type": "markdown",
   "metadata": {},
   "source": [
    "### HI\n"
   ]
  },
  {
   "cell_type": "code",
   "execution_count": 50,
   "metadata": {},
   "outputs": [
    {
     "name": "stdout",
     "output_type": "stream",
     "text": [
      "tensor([ 0.2713, -1.2729,  0.5027], requires_grad=True)\n",
      "tensor([2.2713, 0.7271, 2.5027], grad_fn=<AddBackward0>)\n",
      "tensor([10.3174,  1.0573, 12.5270], grad_fn=<MulBackward0>)\n",
      "tensor(7.9672, grad_fn=<MeanBackward0>)\n",
      "tensor([3.0284, 0.9694, 3.3369])\n"
     ]
    }
   ],
   "source": [
    "torch.random.manual_seed(8)\n",
    "\n",
    "x = torch.randn(3, requires_grad=True) # requires_grad=True -> Gradient가 생김 개신기\n",
    "print(x)\n",
    "\n",
    "y = x + 2\n",
    "print(y) # tensor([,,], grad_fn = <AddBackward0>)\n",
    "z = y*y*2\n",
    "print(z) # MulBackward0\n",
    "z = z.mean()\n",
    "print(z)\n",
    "\n",
    "# 기본적으로 backward()는 output이 scalar야 가능함. 만약에 output이 1d n-array일 경우, n크기의 벡터 v를 만들면, 가능\n",
    "# z = z[0]*0.01 + z[1] + z[2]*0.001 한거랑 똑같은듯\n",
    "'''\n",
    "v = torch.tensor([0.1,1.0,0.001], dtype=torch.float32)\n",
    "z.backward(v)\n",
    "'''\n",
    "\n",
    "z.backward() # -> Outputs Should be Scalar! \n",
    "print(x.grad)"
   ]
  },
  {
   "cell_type": "code",
   "execution_count": 46,
   "metadata": {},
   "outputs": [
    {
     "name": "stdout",
     "output_type": "stream",
     "text": [
      "tensor([0.8988, 1.0884, 0.1770], requires_grad=True)\n",
      "tensor([2.8988, 3.0884, 2.1770])\n",
      "tensor([4.8988, 5.0884, 4.1770])\n"
     ]
    }
   ],
   "source": [
    "import torch\n",
    "\n",
    "x = torch.randn(3, requires_grad=True)\n",
    "print(x)\n",
    "'''\n",
    "# x.requires_grad_(False)\n",
    "# x.detach()\n",
    "# with torch.no_grad():\n",
    "'''\n",
    "\n",
    "# x.requires_grad_(False)\n",
    "# print(x)\n",
    "\n",
    "# y = x.detach()\n",
    "# print(y)\n",
    "\n",
    "with torch.no_grad():\n",
    "    y = x + 2\n",
    "    print(y)\n"
   ]
  },
  {
   "cell_type": "code",
   "execution_count": 49,
   "metadata": {},
   "outputs": [
    {
     "name": "stdout",
     "output_type": "stream",
     "text": [
      "tensor([3., 3., 3., 3.])\n",
      "tensor([3., 3., 3., 3.])\n"
     ]
    }
   ],
   "source": [
    "weights = torch.ones(4, requires_grad=True)\n",
    "\n",
    "for epoch in range(2):\n",
    "    model_output = (weights*3).sum()\n",
    "\n",
    "    model_output.backward()\n",
    "\n",
    "    print(weights.grad)\n",
    "    weights.grad.zero_()\n",
    "\n",
    "    weights\n"
   ]
  },
  {
   "cell_type": "code",
   "execution_count": null,
   "metadata": {},
   "outputs": [],
   "source": [
    "weights = torch.ones(4, requires_grad=True)\n",
    "\n",
    "optimizer = torch.optim.SGD(weights)\n",
    "optimizer.step()\n",
    "optimizer.zero_grad()"
   ]
  }
 ],
 "metadata": {
  "kernelspec": {
   "display_name": "python-study",
   "language": "python",
   "name": "python3"
  },
  "language_info": {
   "codemirror_mode": {
    "name": "ipython",
    "version": 3
   },
   "file_extension": ".py",
   "mimetype": "text/x-python",
   "name": "python",
   "nbconvert_exporter": "python",
   "pygments_lexer": "ipython3",
   "version": "3.10.12"
  },
  "orig_nbformat": 4
 },
 "nbformat": 4,
 "nbformat_minor": 2
}
